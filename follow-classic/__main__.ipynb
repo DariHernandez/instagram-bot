{
 "cells": [
  {
   "cell_type": "code",
   "execution_count": null,
   "metadata": {},
   "outputs": [],
   "source": [
    "from followbot_classic import FollowBotClassic"
   ]
  },
  {
   "cell_type": "code",
   "execution_count": null,
   "metadata": {},
   "outputs": [],
   "source": [
    "# Instance of bot\n",
    "bot = FollowBotClassic()\n",
    "\n",
    "# Run bot\n",
    "bot.autofollow()"
   ]
  }
 ],
 "metadata": {
  "language_info": {
   "name": "python"
  },
  "orig_nbformat": 4
 },
 "nbformat": 4,
 "nbformat_minor": 2
}
