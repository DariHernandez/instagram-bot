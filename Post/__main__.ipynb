{
 "cells": [
  {
   "cell_type": "code",
   "execution_count": null,
   "metadata": {},
   "outputs": [],
   "source": [
    "from postbot import PostBot"
   ]
  },
  {
   "cell_type": "code",
   "execution_count": null,
   "metadata": {},
   "outputs": [],
   "source": [
    "# Image folder\n",
    "directory = \"To Publish\" \n",
    "\n",
    "# Xlsx files with data to post\n",
    "filename = \"Bot Manager.xlsx\"\n"
   ]
  },
  {
   "cell_type": "code",
   "execution_count": null,
   "metadata": {},
   "outputs": [],
   "source": [
    "# Instance of bot\n",
    "bot = PostBot(xlsx_file=filename, img_dir=directory)\n",
    "\n",
    "# Run bot\n",
    "bot.autopost()"
   ]
  }
 ],
 "metadata": {
  "language_info": {
   "name": "python"
  },
  "orig_nbformat": 4
 },
 "nbformat": 4,
 "nbformat_minor": 2
}
