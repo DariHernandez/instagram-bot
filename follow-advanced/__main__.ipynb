{
 "cells": [
  {
   "cell_type": "code",
   "execution_count": 1,
   "metadata": {},
   "outputs": [],
   "source": [
    "from followbot_advanced import FollowBotAdvanced"
   ]
  },
  {
   "cell_type": "code",
   "execution_count": 4,
   "metadata": {},
   "outputs": [
    {
     "name": "stderr",
     "output_type": "stream",
     "text": [
      "[WDM] - ====== WebDriver manager ======\n",
      "[WDM] - Current google-chrome version is 111.0.5563\n",
      "[WDM] - Get LATEST driver version for 111.0.5563\n",
      "[WDM] - Driver [C:\\Users\\daria\\.wdm\\drivers\\chromedriver\\win32\\111.0.5563.64\\chromedriver.exe] found in cache\n"
     ]
    },
    {
     "name": "stdout",
     "output_type": "stream",
     "text": [
      "Login to Instagram...\n",
      "\n",
      "\n",
      "User 'elonrmuskk'\n",
      "Followers Number: 2.9M\n",
      "Limit: 5\n",
      "Taking follower's link from post likes and comments...\n",
      "post 1 / 40: https://www.instagram.com/p/CoSC8-DsBJS/\n",
      "post 2 / 40: https://www.instagram.com/p/ChMvqozMEL8/\n",
      "Follow List Length 5\n",
      "Initiating auto following and upvoting...\n",
      "Current profile (1/5): https://www.instagram.com/abdolrahmanbalolzade/\n",
      "\tUser followed\n",
      "Current profile (2/5): https://www.instagram.com/kapalikxockaocmsoxj/\n",
      "\tUser followed\n",
      "Current profile (3/5): https://www.instagram.com/28288_333/\n",
      "\tUser followed\n",
      "Current profile (4/5): https://www.instagram.com/jamessearsoncomidy/\n",
      "\tUser followed\n",
      "\tPost 1 / 3 liked\n",
      "\tPost 2 / 3 liked\n",
      "\tPost 3 / 3 liked\n",
      "Current profile (5/5): https://www.instagram.com/claudettekeyser/\n",
      "\tUser followed\n",
      "\tPost 1 / 3 liked\n",
      "\tPost 2 / 3 liked\n",
      "\tPost 3 / 3 liked\n",
      "\n",
      "\n",
      "Total users followed: '5'\n"
     ]
    }
   ],
   "source": [
    "# Instance of bot\n",
    "bot = FollowBotAdvanced()\n",
    "\n",
    "# Run bot\n",
    "bot.autofollow()"
   ]
  }
 ],
 "metadata": {
  "kernelspec": {
   "display_name": "venv",
   "language": "python",
   "name": "python3"
  },
  "language_info": {
   "codemirror_mode": {
    "name": "ipython",
    "version": 3
   },
   "file_extension": ".py",
   "mimetype": "text/x-python",
   "name": "python",
   "nbconvert_exporter": "python",
   "pygments_lexer": "ipython3",
   "version": "3.11.1"
  },
  "orig_nbformat": 4
 },
 "nbformat": 4,
 "nbformat_minor": 2
}
